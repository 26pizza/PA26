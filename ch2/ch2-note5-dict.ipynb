{
 "metadata": {
  "language_info": {
   "codemirror_mode": {
    "name": "ipython",
    "version": 3
   },
   "file_extension": ".py",
   "mimetype": "text/x-python",
   "name": "python",
   "nbconvert_exporter": "python",
   "pygments_lexer": "ipython3",
   "version": "3.8.5-final"
  },
  "orig_nbformat": 2,
  "kernelspec": {
   "name": "python3",
   "display_name": "Python 3.8.5 64-bit (conda)",
   "metadata": {
    "interpreter": {
     "hash": "e6e27a7f051211618adf6f4c51f7045e1be2bf36d64ecec521b9d6309bea6634"
    }
   }
  }
 },
 "nbformat": 4,
 "nbformat_minor": 2,
 "cells": [
  {
   "source": [
    "# ch2-note5-dict.ipynb by pa26"
   ],
   "cell_type": "markdown",
   "metadata": {}
  },
  {
   "source": [
    "## 딕셔너리: 딕셔너리(Dictionary)란?\n",
    "딕셔너리란 대응 관계를 나타내는 자료형.\n",
    "연관 배열(Associative array) 또는 해시(Hash)\n",
    "딕셔너리는 Key와 Value를 한 쌍으로 갖는 자료형"
   ],
   "cell_type": "markdown",
   "metadata": {}
  },
  {
   "source": [
    "## 기본 딕셔너리의 모습:\n",
    "{Key1:Value1, Key2:Value2, Key3:Value3, ...}\n",
    "Key와 Value의 쌍 여러 개가 { }로 둘러싸여 있다.\n",
    "각각의 요소는 Key : Value 형태로 이루어져 있고 쉼표(,)로 구분"
   ],
   "cell_type": "markdown",
   "metadata": {}
  },
  {
   "cell_type": "code",
   "execution_count": null,
   "metadata": {},
   "outputs": [],
   "source": [
    "dic = {\"name\": \"pey\", \"phone\": \"0119993323\", \"birth\": \"1118\"}\n",
    "# Key는 각각 'name', 'phone', 'birth'\n",
    "# 각 Key에 해당하는 Value는 'pey', '0119993323', '1118'"
   ]
  },
  {
   "source": [
    "## 여러 가지 딕셔너리"
   ],
   "cell_type": "markdown",
   "metadata": {}
  },
  {
   "cell_type": "code",
   "execution_count": 2,
   "metadata": {},
   "outputs": [
    {
     "output_type": "stream",
     "name": "stdout",
     "text": [
      "hi\n1\n[1, 2, 3]\n"
     ]
    }
   ],
   "source": [
    "a = {1: \"hi\"}\n",
    "print(a[1]) # 딕셔너리는 key로 인덱싱!\n",
    "a = {\"a\": [1, 2, 3]}  # value에는 복합 자료형도 사용된다.\n",
    "print(len(a))\n",
    "# a[a]  # TypeError\n",
    "print(a[\"a\"])"
   ]
  },
  {
   "source": [
    "## 딕셔너리 쌍 추가하기, 삭제하기"
   ],
   "cell_type": "markdown",
   "metadata": {}
  },
  {
   "cell_type": "code",
   "execution_count": 3,
   "metadata": {},
   "outputs": [
    {
     "output_type": "stream",
     "name": "stdout",
     "text": [
      "{1: 'a', 2: 'b', 'name': 'pey'}\n{1: 'a', 2: 'b', 'name': 'pey', 3: [1, 2, 3]}\n{2: 'b', 'name': 'pey', 3: [1, 2, 3]}\n"
     ]
    }
   ],
   "source": [
    "a = {1: \"a\"}\n",
    "a[2] = \"b\"\n",
    "a[\"name\"] = \"pey\"\n",
    "print(a)\n",
    "a[3] = [1, 2, 3]\n",
    "print(a)\n",
    "# 딕셔너리 쌍 삭제하기\n",
    "del a[1]\n",
    "print(a)"
   ]
  },
  {
   "source": [
    "## 딕셔너리: 사용 방법"
   ],
   "cell_type": "markdown",
   "metadata": {}
  },
  {
   "cell_type": "code",
   "execution_count": 4,
   "metadata": {},
   "outputs": [
    {
     "output_type": "stream",
     "name": "stdout",
     "text": [
      "딕셔너리: 사용 방법\n{'김연아': '피겨스케이팅', '류현진': '야구', '손흥민': '축구', '귀도': '파이썬'}\n축구\n"
     ]
    }
   ],
   "source": [
    "print(\"딕셔너리: 사용 방법\")\n",
    "d = {\"김연아\": \"피겨스케이팅\", \"류현진\": \"야구\", \"손흥민\": \"축구\", \"귀도\": \"파이썬\"}\n",
    "print(d)\n",
    "print(d[\"손흥민\"])"
   ]
  },
  {
   "source": [
    "## 딕셔너리에서 Key 사용해 Value 얻기"
   ],
   "cell_type": "markdown",
   "metadata": {}
  },
  {
   "cell_type": "code",
   "execution_count": 10,
   "metadata": {},
   "outputs": [
    {
     "output_type": "stream",
     "name": "stdout",
     "text": [
      "10\n99\na\n2\n1118\n0109993323\n"
     ]
    }
   ],
   "source": [
    "grade = {\"pey\": 10, \"julliet\": 99}\n",
    "print(grade[\"pey\"])\n",
    "print(grade[\"julliet\"])\n",
    "a = {1: \"a\", 2: \"b\"}\n",
    "print(a[1])\n",
    "a = {\"a\": 1, \"b\": 2}\n",
    "print(a[\"b\"])\n",
    "# print(a[b]) TypeError\n",
    "dic = {\"name\": \"pey\", \"phone\": \"0109993323\", \"birth\": \"1118\"}\n",
    "print(dic[\"birth\"])\n",
    "print(dic[\"phone\"])"
   ]
  },
  {
   "source": [
    "## 딕셔너리 만들 때 주의할 사항:\n",
    "딕셔너리에서 Key는 고유한 값이므로 중복되는 Key 값을 설정해 놓으면 하나를 제외한 나머지 것들이 모두 무시된다"
   ],
   "cell_type": "markdown",
   "metadata": {}
  },
  {
   "cell_type": "code",
   "execution_count": 6,
   "metadata": {},
   "outputs": [
    {
     "output_type": "stream",
     "name": "stdout",
     "text": [
      "b\n"
     ]
    }
   ],
   "source": [
    "a = {1: \"a\", 1: \"b\"}\n",
    "print(a[1])"
   ]
  },
  {
   "source": [
    "## 딕셔너리: 관련 내장 함수들"
   ],
   "cell_type": "markdown",
   "metadata": {}
  },
  {
   "cell_type": "code",
   "execution_count": 7,
   "metadata": {},
   "outputs": [
    {
     "output_type": "stream",
     "name": "stdout",
     "text": [
      "딕셔너리: 관련 내장 함수들\ndict_keys(['name', 'phone', 'birth'])\n['name', 'phone', 'birth']\nname\nphone\nbirth\n"
     ]
    }
   ],
   "source": [
    "print(\"딕셔너리: 관련 내장 함수들\")\n",
    "#\n",
    "# Key 리스트 만들기(keys)\n",
    "#\n",
    "a = {\"name\": \"pey\", \"phone\": \"0119993323\", \"birth\": \"1118\"}\n",
    "print(a.keys())\n",
    "print(list(a.keys()))\n",
    "#################################################\n",
    "# 기본적인 반복(iterate) 구문(예: for문)을 실행\n",
    "#################################################\n",
    "for k in a.keys():\n",
    "    print(k)"
   ]
  },
  {
   "cell_type": "code",
   "execution_count": 13,
   "metadata": {},
   "outputs": [
    {
     "output_type": "stream",
     "name": "stdout",
     "text": [
      "dict_values(['pey', '0119993323', '1118'])\nNone\npey\n0119993323\nbar\npey\n"
     ]
    }
   ],
   "source": [
    "# Value 리스트 만들기(values)\n",
    "print(a.values())\n",
    "# Key, Value 쌍 얻기(items)\n",
    "# print(a.itmes())  Key와 Value의 쌍을 튜플로 묶은 값을 dict_items 객체로 돌려준다.\n",
    "#\n",
    "# Key: Value 쌍 모두 지우기(clear)\n",
    "print(a.clear())\n",
    "# Key로 Value얻기(get)\n",
    "a = {\"name\": \"pey\", \"phone\": \"0119993323\", \"birth\": \"1118\"}\n",
    "print(a.get(\"name\"))  # a['name']\n",
    "print(a.get(\"phone\"))  # a['phone']\n",
    "\n",
    "# print(a[\"nokey\"])  # KeyError\n",
    "# get(x, '디폴트 값')\n",
    "#\n",
    "# 딕셔너리 안에 찾으려는 Key 값이 없을 경우\n",
    "# 미리 정해 둔 디폴트 값을 대신 가져오게 설정.\n",
    "#\n",
    "print(a.get(\"foo\", \"bar\")) # foo가 없기에 미리 정해둔 디폴트 값인 bar가 출력됨\n",
    "print(a.get(\"name\", \"bar\")) # name이 있기에 bar가 아닌 pey가 출력"
   ]
  },
  {
   "source": [
    "## 해당 Key가 딕셔너리 안에 있는지 조사하기(in)"
   ],
   "cell_type": "markdown",
   "metadata": {}
  },
  {
   "cell_type": "code",
   "execution_count": 14,
   "metadata": {},
   "outputs": [
    {
     "output_type": "stream",
     "name": "stdout",
     "text": [
      "True\nFalse\n"
     ]
    }
   ],
   "source": [
    "a = {\"name\": \"pey\", \"phone\": \"0119993323\", \"birth\": \"1118\"}\n",
    "print(\"name\" in a)\n",
    "print(\"foo\" in a)"
   ]
  }
 ]
}