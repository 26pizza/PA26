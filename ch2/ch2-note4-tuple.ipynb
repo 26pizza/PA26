{
 "metadata": {
  "language_info": {
   "codemirror_mode": {
    "name": "ipython",
    "version": 3
   },
   "file_extension": ".py",
   "mimetype": "text/x-python",
   "name": "python",
   "nbconvert_exporter": "python",
   "pygments_lexer": "ipython3",
   "version": "3.8.5-final"
  },
  "orig_nbformat": 2,
  "kernelspec": {
   "name": "python3",
   "display_name": "Python 3.8.5 64-bit (conda)",
   "metadata": {
    "interpreter": {
     "hash": "e6e27a7f051211618adf6f4c51f7045e1be2bf36d64ecec521b9d6309bea6634"
    }
   }
  }
 },
 "nbformat": 4,
 "nbformat_minor": 2,
 "cells": [
  {
   "source": [
    "# ch2-note4-tuple.ipynb by pa26"
   ],
   "cell_type": "markdown",
   "metadata": {}
  },
  {
   "source": [
    "## 튜플: tuple 이란?\n",
    "리스트는 [ ]으로 둘러싸지만 튜플은 ( )으로 둘러싼다.\n",
    "리스트는 그 값의 생성, 삭제, 수정이 가능하지만 튜플은 그 값을 바꿀 수 없다.\n",
    "immutabilitty of tuple (불가변성 데이터 구조)"
   ],
   "cell_type": "markdown",
   "metadata": {}
  },
  {
   "cell_type": "code",
   "execution_count": 1,
   "metadata": {},
   "outputs": [
    {
     "output_type": "stream",
     "name": "stdout",
     "text": [
      "()\n(1,)\n(1, 2, 3)\n(1, 2, 3)\n('a', 'b', ('ab', 'cd'))\n"
     ]
    }
   ],
   "source": [
    "even = (2, 4, 6, 8)\n",
    "# 여러 가지 튜플\n",
    "t1 = ()  # 튜플 초기화\n",
    "print(t1)\n",
    "t2 = (1,)\n",
    "print(t2)\n",
    "t3 = (1, 2, 3)\n",
    "print(t3)\n",
    "t4 = 1, 2, 3\n",
    "print(t4)\n",
    "t5 = (\"a\", \"b\", (\"ab\", \"cd\"))\n",
    "print(t5)\n",
    "# t2 = (1,)처럼 단지 1개의 요소만을 가질 때는 요소 뒤에\n",
    "# 콤마(,)를 반드시 붙여야 한다는 것과\n",
    "# t4 = 1, 2, 3처럼 괄호( )를 생략해도 무방하다"
   ]
  },
  {
   "source": [
    "## 튜플의 요소값을 지우거나 변경하려고 하면 어떻게 될까?"
   ],
   "cell_type": "markdown",
   "metadata": {}
  },
  {
   "source": [
    "# 1. 튜플 요솟값을 삭제하려 할 때\n",
    "t1 = (1, 2, \"a\", \"b\")\n",
    "# del t1[0]\n",
    "# 2. 튜플 요솟값을 변경하려 할 때\n",
    "# t1[0] = \"C\" # TypeEroor"
   ],
   "cell_type": "code",
   "metadata": {},
   "execution_count": 4,
   "outputs": []
  },
  {
   "source": [
    "## 튜플: 사용방법"
   ],
   "cell_type": "markdown",
   "metadata": {}
  },
  {
   "cell_type": "code",
   "execution_count": 5,
   "metadata": {},
   "outputs": [
    {
     "output_type": "stream",
     "name": "stdout",
     "text": [
      "튜플: 사용방법\n1\nb\n(2, 'a', 'b')\n('a',)\n('a', 'b')\n(1, 2, 'a', 'b', 3, 4)\n2269479707456\n(3, 4, 3, 4, 3, 4)\n2269479707456\n2269480757568\n4\n"
     ]
    }
   ],
   "source": [
    "print(\"튜플: 사용방법\")\n",
    "# 인덱싱하기\n",
    "t1 = (1, 2, \"a\", \"b\")\n",
    "print(t1[0])\n",
    "print(t1[3])\n",
    "# 슬라이싱하기\n",
    "t1 = (1, 2, \"a\", \"b\")\n",
    "print(t1[1:])\n",
    "print(t1[2:-1])  # ('a',)\n",
    "print(t1[2:])\n",
    "# 튜플 더하기\n",
    "t1 = (1, 2, \"a\", \"b\")\n",
    "t2 = (3, 4)\n",
    "print(t1 + t2)\n",
    "# 튜플 곱하기\n",
    "t2 = (3, 4)\n",
    "print(id(t2))\n",
    "print(t2 * 3)\n",
    "print(id(t2))\n",
    "t2 = t2 * 3\n",
    "print(id(t2))\n",
    "# 튜플 길이 구하기\n",
    "t1 = (1, 2, \"a\", \"b\")\n",
    "print(len(t1))"
   ]
  }
 ]
}